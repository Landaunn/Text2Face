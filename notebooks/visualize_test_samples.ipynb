{
 "cells": [
  {
   "cell_type": "code",
   "execution_count": null,
   "id": "eea4c2d8",
   "metadata": {},
   "outputs": [],
   "source": [
    "cd .."
   ]
  },
  {
   "cell_type": "markdown",
   "id": "694c925a",
   "metadata": {},
   "source": [
    "## Load model"
   ]
  },
  {
   "cell_type": "code",
   "execution_count": null,
   "id": "7d2000bd",
   "metadata": {},
   "outputs": [],
   "source": [
    "import torch\n",
    "\n",
    "def seed_everything(seed: int):\n",
    "    import random, os\n",
    "    import numpy as np\n",
    "    import torch\n",
    "    \n",
    "    random.seed(seed)\n",
    "    os.environ['PYTHONHASHSEED'] = str(seed)\n",
    "    np.random.seed(seed)\n",
    "    torch.manual_seed(seed)\n",
    "    torch.cuda.manual_seed(seed)\n",
    "    torch.backends.cudnn.deterministic = True\n",
    "    torch.backends.cudnn.benchmark = True\n",
    "    \n",
    "seed_everything(42)"
   ]
  },
  {
   "cell_type": "code",
   "execution_count": null,
   "id": "e32fa95b",
   "metadata": {},
   "outputs": [],
   "source": [
    "from clip2latent import Clip2StyleGAN"
   ]
  },
  {
   "cell_type": "code",
   "execution_count": null,
   "id": "218899ce",
   "metadata": {},
   "outputs": [],
   "source": [
    "cfg_path = '/home/kozunov/projects/Text2Face/configs/val/default.yaml'\n",
    "checkpoint = '/home/kozunov/projects/Text2Face/checkpoints/20230610-234109/000250.ckpt'\n",
    "\n",
    "\n",
    "model = Clip2StyleGAN(cfg_path, checkpoint)"
   ]
  },
  {
   "cell_type": "markdown",
   "id": "e5006396",
   "metadata": {},
   "source": [
    "## Load data"
   ]
  },
  {
   "cell_type": "code",
   "execution_count": null,
   "id": "06a89bca",
   "metadata": {},
   "outputs": [],
   "source": [
    "test_text_samples = \"text/face-test.txt\"\n",
    "\n",
    "with open(test_text_samples, 'rt') as f:\n",
    "    test_data = f.readlines()\n",
    "    test_data = [x.strip('\\n') for x in test_data]"
   ]
  },
  {
   "cell_type": "markdown",
   "id": "66354b36",
   "metadata": {},
   "source": [
    "## Scores model"
   ]
  },
  {
   "cell_type": "code",
   "execution_count": null,
   "id": "cc3d3fa6",
   "metadata": {},
   "outputs": [],
   "source": [
    "tensor_images, similarity = model(test_data)"
   ]
  },
  {
   "cell_type": "markdown",
   "id": "4dc7f804",
   "metadata": {},
   "source": [
    "## Visualize results"
   ]
  },
  {
   "cell_type": "code",
   "execution_count": null,
   "id": "417de595",
   "metadata": {},
   "outputs": [],
   "source": [
    "from tqdm import tqdm\n",
    "from matplotlib import pyplot as plt\n",
    "\n",
    "\n",
    "def visualize_gen_images(tensor_images, similarity, test_data):\n",
    "    images = preprosessing_images(tensor_images)\n",
    "    for i in tqdm(range(len(images))):\n",
    "        print(test_data[i])\n",
    "        print(f'Clip Score: {round(similarity[i].item(), 4)}')\n",
    "        plt.imshow(images[i])\n",
    "        plt.show()\n",
    "        \n",
    "\n",
    "def preprosessing_images(tensor_images):\n",
    "    images = []\n",
    "    for image in tensor_images:\n",
    "        gen_image = (255*image.clamp(-1, 1)/2 + 127.5).to(torch.uint8).permute(1,2,0).numpy()\n",
    "        images.append(gen_image)\n",
    "    return images"
   ]
  },
  {
   "cell_type": "code",
   "execution_count": null,
   "id": "549c1b71",
   "metadata": {
    "scrolled": true
   },
   "outputs": [],
   "source": [
    "visualize_gen_images(tensor_images, similarity, test_data)"
   ]
  }
 ],
 "metadata": {
  "kernelspec": {
   "display_name": "Python 3 (ipykernel)",
   "language": "python",
   "name": "python3"
  },
  "language_info": {
   "codemirror_mode": {
    "name": "ipython",
    "version": 3
   },
   "file_extension": ".py",
   "mimetype": "text/x-python",
   "name": "python",
   "nbconvert_exporter": "python",
   "pygments_lexer": "ipython3",
   "version": "3.8.10"
  }
 },
 "nbformat": 4,
 "nbformat_minor": 5
}
